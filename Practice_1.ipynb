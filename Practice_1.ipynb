{
  "nbformat": 4,
  "nbformat_minor": 0,
  "metadata": {
    "colab": {
      "provenance": []
    },
    "kernelspec": {
      "name": "python3",
      "display_name": "Python 3"
    },
    "language_info": {
      "name": "python"
    }
  },
  "cells": [
    {
      "cell_type": "markdown",
      "source": [
        "# Task 1"
      ],
      "metadata": {
        "id": "rYtYex9lDcIA"
      }
    },
    {
      "cell_type": "code",
      "source": [
        "import warnings\n",
        "warnings.filterwarnings(\"ignore\")"
      ],
      "metadata": {
        "id": "JtcT4PKxKqj0"
      },
      "execution_count": 166,
      "outputs": []
    },
    {
      "cell_type": "markdown",
      "source": [
        "Do the tutorial posted at: http://scikit.ml/tutorial.html"
      ],
      "metadata": {
        "id": "0ZIEaEtzFQ37"
      }
    },
    {
      "cell_type": "markdown",
      "source": [
        "install necessary libraries"
      ],
      "metadata": {
        "id": "XZQKIi4DENhD"
      }
    },
    {
      "cell_type": "code",
      "execution_count": 2,
      "metadata": {
        "colab": {
          "base_uri": "https://localhost:8080/"
        },
        "id": "le3H0Yv8DU8M",
        "outputId": "69df3a1a-dffe-4287-c859-0628a747cf67"
      },
      "outputs": [
        {
          "output_type": "stream",
          "name": "stdout",
          "text": [
            "\u001b[?25l     \u001b[90m━━━━━━━━━━━━━━━━━━━━━━━━━━━━━━━━━━━━━━━━\u001b[0m \u001b[32m0.0/89.4 KB\u001b[0m \u001b[31m?\u001b[0m eta \u001b[36m-:--:--\u001b[0m\r\u001b[2K     \u001b[91m━━━━━━━━━━━━━━━━━━━━━━━━━━━━━━━━━━━━\u001b[0m\u001b[91m╸\u001b[0m\u001b[90m━━━\u001b[0m \u001b[32m81.9/89.4 KB\u001b[0m \u001b[31m5.0 MB/s\u001b[0m eta \u001b[36m0:00:01\u001b[0m\r\u001b[2K     \u001b[90m━━━━━━━━━━━━━━━━━━━━━━━━━━━━━━━━━━━━━━━━\u001b[0m \u001b[32m89.4/89.4 KB\u001b[0m \u001b[31m2.1 MB/s\u001b[0m eta \u001b[36m0:00:00\u001b[0m\n",
            "\u001b[?25h"
          ]
        }
      ],
      "source": [
        "!pip install scikit-multilearn -q"
      ]
    },
    {
      "cell_type": "code",
      "source": [
        "!pip install arff -q"
      ],
      "metadata": {
        "colab": {
          "base_uri": "https://localhost:8080/"
        },
        "id": "ayR0C-r6EIcs",
        "outputId": "c10fb211-cecf-4b1e-9a1c-f6846cf02e31"
      },
      "execution_count": 3,
      "outputs": [
        {
          "output_type": "stream",
          "name": "stdout",
          "text": [
            "  Preparing metadata (setup.py) ... \u001b[?25l\u001b[?25hdone\n",
            "  Building wheel for arff (setup.py) ... \u001b[?25l\u001b[?25hdone\n"
          ]
        }
      ]
    },
    {
      "cell_type": "markdown",
      "source": [
        "import libraries"
      ],
      "metadata": {
        "id": "KrQJBINgEBNo"
      }
    },
    {
      "cell_type": "code",
      "source": [
        "from skmultilearn.dataset import load_dataset\n",
        "from skmultilearn.problem_transform import BinaryRelevance\n",
        "from sklearn.svm import SVC\n",
        "import sklearn.metrics as metrics"
      ],
      "metadata": {
        "id": "1m8UTGWaDfcM"
      },
      "execution_count": 4,
      "outputs": []
    },
    {
      "cell_type": "markdown",
      "source": [
        "Get dataset"
      ],
      "metadata": {
        "id": "50c7Ee_zOslG"
      }
    },
    {
      "cell_type": "code",
      "source": [
        "X_train, y_train, feature_names, label_names = load_dataset('emotions', 'train')\n",
        "X_test, y_test, _, _ = load_dataset('emotions', 'test')"
      ],
      "metadata": {
        "colab": {
          "base_uri": "https://localhost:8080/"
        },
        "id": "N_MBFh1HDol2",
        "outputId": "59a4a516-e96b-4be2-f181-7d5eb05ca26f"
      },
      "execution_count": 5,
      "outputs": [
        {
          "output_type": "stream",
          "name": "stdout",
          "text": [
            "emotions:train - does not exists downloading\n",
            "Downloaded emotions-train\n",
            "emotions:test - does not exists downloading\n",
            "Downloaded emotions-test\n"
          ]
        }
      ]
    },
    {
      "cell_type": "markdown",
      "source": [
        "Get feature names (list slice)"
      ],
      "metadata": {
        "id": "9PrhvVHpOwaO"
      }
    },
    {
      "cell_type": "code",
      "source": [
        "feature_names[:10]"
      ],
      "metadata": {
        "colab": {
          "base_uri": "https://localhost:8080/"
        },
        "id": "ebxQ7aBZDnZ-",
        "outputId": "65cd36f8-cf74-485c-e492-864844199325"
      },
      "execution_count": 6,
      "outputs": [
        {
          "output_type": "execute_result",
          "data": {
            "text/plain": [
              "[('Mean_Acc1298_Mean_Mem40_Centroid', 'NUMERIC'),\n",
              " ('Mean_Acc1298_Mean_Mem40_Rolloff', 'NUMERIC'),\n",
              " ('Mean_Acc1298_Mean_Mem40_Flux', 'NUMERIC'),\n",
              " ('Mean_Acc1298_Mean_Mem40_MFCC_0', 'NUMERIC'),\n",
              " ('Mean_Acc1298_Mean_Mem40_MFCC_1', 'NUMERIC'),\n",
              " ('Mean_Acc1298_Mean_Mem40_MFCC_2', 'NUMERIC'),\n",
              " ('Mean_Acc1298_Mean_Mem40_MFCC_3', 'NUMERIC'),\n",
              " ('Mean_Acc1298_Mean_Mem40_MFCC_4', 'NUMERIC'),\n",
              " ('Mean_Acc1298_Mean_Mem40_MFCC_5', 'NUMERIC'),\n",
              " ('Mean_Acc1298_Mean_Mem40_MFCC_6', 'NUMERIC')]"
            ]
          },
          "metadata": {},
          "execution_count": 6
        }
      ]
    },
    {
      "cell_type": "markdown",
      "source": [
        "Get label names"
      ],
      "metadata": {
        "id": "7SR-DS6aO4K8"
      }
    },
    {
      "cell_type": "code",
      "source": [
        "label_names"
      ],
      "metadata": {
        "colab": {
          "base_uri": "https://localhost:8080/"
        },
        "id": "s3s3bWZhDpi2",
        "outputId": "27454ab7-a8bc-49fd-b727-add0d50f0d3c"
      },
      "execution_count": 7,
      "outputs": [
        {
          "output_type": "execute_result",
          "data": {
            "text/plain": [
              "[('amazed-suprised', ['0', '1']),\n",
              " ('happy-pleased', ['0', '1']),\n",
              " ('relaxing-calm', ['0', '1']),\n",
              " ('quiet-still', ['0', '1']),\n",
              " ('sad-lonely', ['0', '1']),\n",
              " ('angry-aggresive', ['0', '1'])]"
            ]
          },
          "metadata": {},
          "execution_count": 7
        }
      ]
    },
    {
      "cell_type": "markdown",
      "source": [
        "The code creates an instance of the `BinaryRelevance` class from the `scikit-learn` library for multi-label classification. \n",
        "\n",
        "It uses an instance of the SVC (Support Vector Classifier) classifier as the base classifier for each label. \n",
        "\n",
        "The require_dense parameter is set to [False, True], which means the first column of the input data should not be dense, but the second column should be."
      ],
      "metadata": {
        "id": "rDUDiizUPBR0"
      }
    },
    {
      "cell_type": "code",
      "source": [
        "clf = BinaryRelevance(\n",
        "    classifier=SVC(),\n",
        "    require_dense=[False, True]\n",
        ")"
      ],
      "metadata": {
        "id": "KCW-gMr4DqTf"
      },
      "execution_count": 8,
      "outputs": []
    },
    {
      "cell_type": "markdown",
      "source": [
        "The code fits a multi-label classification model using the `BinaryRelevance` classifier (clf) to the training data X_train and the training labels y_train.\n",
        "\n",
        "The fit method trains the classifier on the training data, so that it can be used later to make predictions on new, unseen data."
      ],
      "metadata": {
        "id": "o1j9YrrWPJnC"
      }
    },
    {
      "cell_type": "code",
      "source": [
        "clf.fit(X_train, y_train)"
      ],
      "metadata": {
        "colab": {
          "base_uri": "https://localhost:8080/"
        },
        "id": "6Hqabn-eDx08",
        "outputId": "01ed1f7c-3272-4556-a2d9-2b8f252407aa"
      },
      "execution_count": 9,
      "outputs": [
        {
          "output_type": "execute_result",
          "data": {
            "text/plain": [
              "BinaryRelevance(classifier=SVC(), require_dense=[False, True])"
            ]
          },
          "metadata": {},
          "execution_count": 9
        }
      ]
    },
    {
      "cell_type": "code",
      "source": [
        "prediction = clf.predict(X_test)"
      ],
      "metadata": {
        "id": "PUNTzuenD2aO"
      },
      "execution_count": 10,
      "outputs": []
    },
    {
      "cell_type": "markdown",
      "source": [
        "Get metrics for training model"
      ],
      "metadata": {
        "id": "00-0rgh6PTGQ"
      }
    },
    {
      "cell_type": "code",
      "source": [
        "round(metrics.hamming_loss(y_test, prediction), 3)"
      ],
      "metadata": {
        "colab": {
          "base_uri": "https://localhost:8080/"
        },
        "id": "lEt58-oJD62K",
        "outputId": "4fe65b3e-42ef-4343-a18b-3be79ec90679"
      },
      "execution_count": 11,
      "outputs": [
        {
          "output_type": "execute_result",
          "data": {
            "text/plain": [
              "0.325"
            ]
          },
          "metadata": {},
          "execution_count": 11
        }
      ]
    },
    {
      "cell_type": "code",
      "source": [
        "round(metrics.accuracy_score(y_test, prediction), 3)"
      ],
      "metadata": {
        "colab": {
          "base_uri": "https://localhost:8080/"
        },
        "id": "6T5vVedVD8jh",
        "outputId": "6bd5e024-9fd2-41b3-fff4-b6520b350ba7"
      },
      "execution_count": 12,
      "outputs": [
        {
          "output_type": "execute_result",
          "data": {
            "text/plain": [
              "0.015"
            ]
          },
          "metadata": {},
          "execution_count": 12
        }
      ]
    },
    {
      "cell_type": "markdown",
      "source": [
        "# Task 2"
      ],
      "metadata": {
        "id": "gexSQjHbEoDo"
      }
    },
    {
      "cell_type": "markdown",
      "source": [
        "Get familiar with the datasets present in Scikit-multilearn. Specifically, it has the following 17 datasets: {'scene', 'Corel5k', 'bibtex', \n",
        "'enron', 'rcv1subset5', 'tmc2007_500', 'rcv1subset3', 'rcv1subset1', 'delicious', \n",
        "'rcv1subset4', 'genbase', 'birds', 'emotions', 'rcv1subset2', 'mediamill', 'medical', \n",
        "'yeast'}\n"
      ],
      "metadata": {
        "id": "46XF6RpiFUcp"
      }
    },
    {
      "cell_type": "markdown",
      "source": [
        "Here's a brief summary of the 17 datasets:\n",
        "\n",
        "* scene: scene recognition dataset, where each image is assigned to one of six categories\n",
        "* Corel5k: image dataset, where each image is assigned to one or more of 5000 categories\n",
        "* bibtex: text classification dataset, where each document is assigned to one or more of 159 categories\n",
        "* enron: email classification dataset, where each email is assigned to one or more of 53 categories\n",
        "* rcv1subset5: text classification dataset, where each document is assigned to one or more of 5 categories\n",
        "* tmc2007_500: text classification dataset, where each document is assigned to one or more of 500 categories\n",
        "* rcv1subset3: text classification dataset, where each document is assigned to one or more of 3 categories\n",
        "* rcv1subset1: text classification dataset, where each document is assigned to one of two categories\n",
        "* delicious: web page classification dataset, where each web page is assigned to one or more of 983 categories\n",
        "* rcv1subset4: text classification dataset, where each document is assigned to one or more of 4 categories\n",
        "* genbase: gene expression dataset, where each gene expression profile is assigned to one or more of 20 categories\n",
        "* birds: audio classification dataset, where each audio clip is assigned to one of 20 categories\n",
        "* emotions: facial expression recognition dataset, where each facial expression is assigned to one of six categories\n",
        "* rcv1subset2: text classification dataset, where each document is assigned to one of two categories\n",
        "* mediamill: multimedia classification dataset, where each multimedia item is assigned to one or more of 101 categories\n",
        "* medical: medical diagnosis dataset, where each patient is assigned to one or more of 14 categories\n",
        "* yeast: gene expression dataset, where each gene expression profile is \n",
        "assigned to one or more of 14 categories\n",
        "\n",
        "\n",
        "These datasets can be used to evaluate and compare different multi-label classification algorithms."
      ],
      "metadata": {
        "id": "-uk9bJSWFA6V"
      }
    },
    {
      "cell_type": "markdown",
      "source": [
        "Example of opening a dataset to avoid long outputs and records:"
      ],
      "metadata": {
        "id": "AfXMkUZbQOFc"
      }
    },
    {
      "cell_type": "code",
      "source": [
        "import pandas as pd\n",
        "\n",
        "from skmultilearn.dataset import load_dataset"
      ],
      "metadata": {
        "id": "qcDVWJ4VEqGw"
      },
      "execution_count": 13,
      "outputs": []
    },
    {
      "cell_type": "code",
      "source": [
        "dataset = load_dataset('scene', 'undivided')"
      ],
      "metadata": {
        "colab": {
          "base_uri": "https://localhost:8080/"
        },
        "id": "RpIdqpD3E7JK",
        "outputId": "9a1b5cbf-2c13-4c53-fd05-97b6dda98fe1"
      },
      "execution_count": 26,
      "outputs": [
        {
          "output_type": "stream",
          "name": "stdout",
          "text": [
            "scene:undivided - exists, not redownloading\n"
          ]
        }
      ]
    },
    {
      "cell_type": "code",
      "source": [
        "type(dataset)"
      ],
      "metadata": {
        "colab": {
          "base_uri": "https://localhost:8080/"
        },
        "id": "O4g_POsEFpk-",
        "outputId": "09ab4a0e-225d-4f03-8cac-2b6c09a76ce6"
      },
      "execution_count": 15,
      "outputs": [
        {
          "output_type": "execute_result",
          "data": {
            "text/plain": [
              "tuple"
            ]
          },
          "metadata": {},
          "execution_count": 15
        }
      ]
    },
    {
      "cell_type": "code",
      "source": [
        "dataset[2]"
      ],
      "metadata": {
        "colab": {
          "base_uri": "https://localhost:8080/"
        },
        "id": "qIbtTE4DFwa0",
        "outputId": "605f6161-1baf-4838-d264-c56c8db9a258"
      },
      "execution_count": 16,
      "outputs": [
        {
          "output_type": "execute_result",
          "data": {
            "text/plain": [
              "[('Att1', 'NUMERIC'),\n",
              " ('Att2', 'NUMERIC'),\n",
              " ('Att3', 'NUMERIC'),\n",
              " ('Att4', 'NUMERIC'),\n",
              " ('Att5', 'NUMERIC'),\n",
              " ('Att6', 'NUMERIC'),\n",
              " ('Att7', 'NUMERIC'),\n",
              " ('Att8', 'NUMERIC'),\n",
              " ('Att9', 'NUMERIC'),\n",
              " ('Att10', 'NUMERIC'),\n",
              " ('Att11', 'NUMERIC'),\n",
              " ('Att12', 'NUMERIC'),\n",
              " ('Att13', 'NUMERIC'),\n",
              " ('Att14', 'NUMERIC'),\n",
              " ('Att15', 'NUMERIC'),\n",
              " ('Att16', 'NUMERIC'),\n",
              " ('Att17', 'NUMERIC'),\n",
              " ('Att18', 'NUMERIC'),\n",
              " ('Att19', 'NUMERIC'),\n",
              " ('Att20', 'NUMERIC'),\n",
              " ('Att21', 'NUMERIC'),\n",
              " ('Att22', 'NUMERIC'),\n",
              " ('Att23', 'NUMERIC'),\n",
              " ('Att24', 'NUMERIC'),\n",
              " ('Att25', 'NUMERIC'),\n",
              " ('Att26', 'NUMERIC'),\n",
              " ('Att27', 'NUMERIC'),\n",
              " ('Att28', 'NUMERIC'),\n",
              " ('Att29', 'NUMERIC'),\n",
              " ('Att30', 'NUMERIC'),\n",
              " ('Att31', 'NUMERIC'),\n",
              " ('Att32', 'NUMERIC'),\n",
              " ('Att33', 'NUMERIC'),\n",
              " ('Att34', 'NUMERIC'),\n",
              " ('Att35', 'NUMERIC'),\n",
              " ('Att36', 'NUMERIC'),\n",
              " ('Att37', 'NUMERIC'),\n",
              " ('Att38', 'NUMERIC'),\n",
              " ('Att39', 'NUMERIC'),\n",
              " ('Att40', 'NUMERIC'),\n",
              " ('Att41', 'NUMERIC'),\n",
              " ('Att42', 'NUMERIC'),\n",
              " ('Att43', 'NUMERIC'),\n",
              " ('Att44', 'NUMERIC'),\n",
              " ('Att45', 'NUMERIC'),\n",
              " ('Att46', 'NUMERIC'),\n",
              " ('Att47', 'NUMERIC'),\n",
              " ('Att48', 'NUMERIC'),\n",
              " ('Att49', 'NUMERIC'),\n",
              " ('Att50', 'NUMERIC'),\n",
              " ('Att51', 'NUMERIC'),\n",
              " ('Att52', 'NUMERIC'),\n",
              " ('Att53', 'NUMERIC'),\n",
              " ('Att54', 'NUMERIC'),\n",
              " ('Att55', 'NUMERIC'),\n",
              " ('Att56', 'NUMERIC'),\n",
              " ('Att57', 'NUMERIC'),\n",
              " ('Att58', 'NUMERIC'),\n",
              " ('Att59', 'NUMERIC'),\n",
              " ('Att60', 'NUMERIC'),\n",
              " ('Att61', 'NUMERIC'),\n",
              " ('Att62', 'NUMERIC'),\n",
              " ('Att63', 'NUMERIC'),\n",
              " ('Att64', 'NUMERIC'),\n",
              " ('Att65', 'NUMERIC'),\n",
              " ('Att66', 'NUMERIC'),\n",
              " ('Att67', 'NUMERIC'),\n",
              " ('Att68', 'NUMERIC'),\n",
              " ('Att69', 'NUMERIC'),\n",
              " ('Att70', 'NUMERIC'),\n",
              " ('Att71', 'NUMERIC'),\n",
              " ('Att72', 'NUMERIC'),\n",
              " ('Att73', 'NUMERIC'),\n",
              " ('Att74', 'NUMERIC'),\n",
              " ('Att75', 'NUMERIC'),\n",
              " ('Att76', 'NUMERIC'),\n",
              " ('Att77', 'NUMERIC'),\n",
              " ('Att78', 'NUMERIC'),\n",
              " ('Att79', 'NUMERIC'),\n",
              " ('Att80', 'NUMERIC'),\n",
              " ('Att81', 'NUMERIC'),\n",
              " ('Att82', 'NUMERIC'),\n",
              " ('Att83', 'NUMERIC'),\n",
              " ('Att84', 'NUMERIC'),\n",
              " ('Att85', 'NUMERIC'),\n",
              " ('Att86', 'NUMERIC'),\n",
              " ('Att87', 'NUMERIC'),\n",
              " ('Att88', 'NUMERIC'),\n",
              " ('Att89', 'NUMERIC'),\n",
              " ('Att90', 'NUMERIC'),\n",
              " ('Att91', 'NUMERIC'),\n",
              " ('Att92', 'NUMERIC'),\n",
              " ('Att93', 'NUMERIC'),\n",
              " ('Att94', 'NUMERIC'),\n",
              " ('Att95', 'NUMERIC'),\n",
              " ('Att96', 'NUMERIC'),\n",
              " ('Att97', 'NUMERIC'),\n",
              " ('Att98', 'NUMERIC'),\n",
              " ('Att99', 'NUMERIC'),\n",
              " ('Att100', 'NUMERIC'),\n",
              " ('Att101', 'NUMERIC'),\n",
              " ('Att102', 'NUMERIC'),\n",
              " ('Att103', 'NUMERIC'),\n",
              " ('Att104', 'NUMERIC'),\n",
              " ('Att105', 'NUMERIC'),\n",
              " ('Att106', 'NUMERIC'),\n",
              " ('Att107', 'NUMERIC'),\n",
              " ('Att108', 'NUMERIC'),\n",
              " ('Att109', 'NUMERIC'),\n",
              " ('Att110', 'NUMERIC'),\n",
              " ('Att111', 'NUMERIC'),\n",
              " ('Att112', 'NUMERIC'),\n",
              " ('Att113', 'NUMERIC'),\n",
              " ('Att114', 'NUMERIC'),\n",
              " ('Att115', 'NUMERIC'),\n",
              " ('Att116', 'NUMERIC'),\n",
              " ('Att117', 'NUMERIC'),\n",
              " ('Att118', 'NUMERIC'),\n",
              " ('Att119', 'NUMERIC'),\n",
              " ('Att120', 'NUMERIC'),\n",
              " ('Att121', 'NUMERIC'),\n",
              " ('Att122', 'NUMERIC'),\n",
              " ('Att123', 'NUMERIC'),\n",
              " ('Att124', 'NUMERIC'),\n",
              " ('Att125', 'NUMERIC'),\n",
              " ('Att126', 'NUMERIC'),\n",
              " ('Att127', 'NUMERIC'),\n",
              " ('Att128', 'NUMERIC'),\n",
              " ('Att129', 'NUMERIC'),\n",
              " ('Att130', 'NUMERIC'),\n",
              " ('Att131', 'NUMERIC'),\n",
              " ('Att132', 'NUMERIC'),\n",
              " ('Att133', 'NUMERIC'),\n",
              " ('Att134', 'NUMERIC'),\n",
              " ('Att135', 'NUMERIC'),\n",
              " ('Att136', 'NUMERIC'),\n",
              " ('Att137', 'NUMERIC'),\n",
              " ('Att138', 'NUMERIC'),\n",
              " ('Att139', 'NUMERIC'),\n",
              " ('Att140', 'NUMERIC'),\n",
              " ('Att141', 'NUMERIC'),\n",
              " ('Att142', 'NUMERIC'),\n",
              " ('Att143', 'NUMERIC'),\n",
              " ('Att144', 'NUMERIC'),\n",
              " ('Att145', 'NUMERIC'),\n",
              " ('Att146', 'NUMERIC'),\n",
              " ('Att147', 'NUMERIC'),\n",
              " ('Att148', 'NUMERIC'),\n",
              " ('Att149', 'NUMERIC'),\n",
              " ('Att150', 'NUMERIC'),\n",
              " ('Att151', 'NUMERIC'),\n",
              " ('Att152', 'NUMERIC'),\n",
              " ('Att153', 'NUMERIC'),\n",
              " ('Att154', 'NUMERIC'),\n",
              " ('Att155', 'NUMERIC'),\n",
              " ('Att156', 'NUMERIC'),\n",
              " ('Att157', 'NUMERIC'),\n",
              " ('Att158', 'NUMERIC'),\n",
              " ('Att159', 'NUMERIC'),\n",
              " ('Att160', 'NUMERIC'),\n",
              " ('Att161', 'NUMERIC'),\n",
              " ('Att162', 'NUMERIC'),\n",
              " ('Att163', 'NUMERIC'),\n",
              " ('Att164', 'NUMERIC'),\n",
              " ('Att165', 'NUMERIC'),\n",
              " ('Att166', 'NUMERIC'),\n",
              " ('Att167', 'NUMERIC'),\n",
              " ('Att168', 'NUMERIC'),\n",
              " ('Att169', 'NUMERIC'),\n",
              " ('Att170', 'NUMERIC'),\n",
              " ('Att171', 'NUMERIC'),\n",
              " ('Att172', 'NUMERIC'),\n",
              " ('Att173', 'NUMERIC'),\n",
              " ('Att174', 'NUMERIC'),\n",
              " ('Att175', 'NUMERIC'),\n",
              " ('Att176', 'NUMERIC'),\n",
              " ('Att177', 'NUMERIC'),\n",
              " ('Att178', 'NUMERIC'),\n",
              " ('Att179', 'NUMERIC'),\n",
              " ('Att180', 'NUMERIC'),\n",
              " ('Att181', 'NUMERIC'),\n",
              " ('Att182', 'NUMERIC'),\n",
              " ('Att183', 'NUMERIC'),\n",
              " ('Att184', 'NUMERIC'),\n",
              " ('Att185', 'NUMERIC'),\n",
              " ('Att186', 'NUMERIC'),\n",
              " ('Att187', 'NUMERIC'),\n",
              " ('Att188', 'NUMERIC'),\n",
              " ('Att189', 'NUMERIC'),\n",
              " ('Att190', 'NUMERIC'),\n",
              " ('Att191', 'NUMERIC'),\n",
              " ('Att192', 'NUMERIC'),\n",
              " ('Att193', 'NUMERIC'),\n",
              " ('Att194', 'NUMERIC'),\n",
              " ('Att195', 'NUMERIC'),\n",
              " ('Att196', 'NUMERIC'),\n",
              " ('Att197', 'NUMERIC'),\n",
              " ('Att198', 'NUMERIC'),\n",
              " ('Att199', 'NUMERIC'),\n",
              " ('Att200', 'NUMERIC'),\n",
              " ('Att201', 'NUMERIC'),\n",
              " ('Att202', 'NUMERIC'),\n",
              " ('Att203', 'NUMERIC'),\n",
              " ('Att204', 'NUMERIC'),\n",
              " ('Att205', 'NUMERIC'),\n",
              " ('Att206', 'NUMERIC'),\n",
              " ('Att207', 'NUMERIC'),\n",
              " ('Att208', 'NUMERIC'),\n",
              " ('Att209', 'NUMERIC'),\n",
              " ('Att210', 'NUMERIC'),\n",
              " ('Att211', 'NUMERIC'),\n",
              " ('Att212', 'NUMERIC'),\n",
              " ('Att213', 'NUMERIC'),\n",
              " ('Att214', 'NUMERIC'),\n",
              " ('Att215', 'NUMERIC'),\n",
              " ('Att216', 'NUMERIC'),\n",
              " ('Att217', 'NUMERIC'),\n",
              " ('Att218', 'NUMERIC'),\n",
              " ('Att219', 'NUMERIC'),\n",
              " ('Att220', 'NUMERIC'),\n",
              " ('Att221', 'NUMERIC'),\n",
              " ('Att222', 'NUMERIC'),\n",
              " ('Att223', 'NUMERIC'),\n",
              " ('Att224', 'NUMERIC'),\n",
              " ('Att225', 'NUMERIC'),\n",
              " ('Att226', 'NUMERIC'),\n",
              " ('Att227', 'NUMERIC'),\n",
              " ('Att228', 'NUMERIC'),\n",
              " ('Att229', 'NUMERIC'),\n",
              " ('Att230', 'NUMERIC'),\n",
              " ('Att231', 'NUMERIC'),\n",
              " ('Att232', 'NUMERIC'),\n",
              " ('Att233', 'NUMERIC'),\n",
              " ('Att234', 'NUMERIC'),\n",
              " ('Att235', 'NUMERIC'),\n",
              " ('Att236', 'NUMERIC'),\n",
              " ('Att237', 'NUMERIC'),\n",
              " ('Att238', 'NUMERIC'),\n",
              " ('Att239', 'NUMERIC'),\n",
              " ('Att240', 'NUMERIC'),\n",
              " ('Att241', 'NUMERIC'),\n",
              " ('Att242', 'NUMERIC'),\n",
              " ('Att243', 'NUMERIC'),\n",
              " ('Att244', 'NUMERIC'),\n",
              " ('Att245', 'NUMERIC'),\n",
              " ('Att246', 'NUMERIC'),\n",
              " ('Att247', 'NUMERIC'),\n",
              " ('Att248', 'NUMERIC'),\n",
              " ('Att249', 'NUMERIC'),\n",
              " ('Att250', 'NUMERIC'),\n",
              " ('Att251', 'NUMERIC'),\n",
              " ('Att252', 'NUMERIC'),\n",
              " ('Att253', 'NUMERIC'),\n",
              " ('Att254', 'NUMERIC'),\n",
              " ('Att255', 'NUMERIC'),\n",
              " ('Att256', 'NUMERIC'),\n",
              " ('Att257', 'NUMERIC'),\n",
              " ('Att258', 'NUMERIC'),\n",
              " ('Att259', 'NUMERIC'),\n",
              " ('Att260', 'NUMERIC'),\n",
              " ('Att261', 'NUMERIC'),\n",
              " ('Att262', 'NUMERIC'),\n",
              " ('Att263', 'NUMERIC'),\n",
              " ('Att264', 'NUMERIC'),\n",
              " ('Att265', 'NUMERIC'),\n",
              " ('Att266', 'NUMERIC'),\n",
              " ('Att267', 'NUMERIC'),\n",
              " ('Att268', 'NUMERIC'),\n",
              " ('Att269', 'NUMERIC'),\n",
              " ('Att270', 'NUMERIC'),\n",
              " ('Att271', 'NUMERIC'),\n",
              " ('Att272', 'NUMERIC'),\n",
              " ('Att273', 'NUMERIC'),\n",
              " ('Att274', 'NUMERIC'),\n",
              " ('Att275', 'NUMERIC'),\n",
              " ('Att276', 'NUMERIC'),\n",
              " ('Att277', 'NUMERIC'),\n",
              " ('Att278', 'NUMERIC'),\n",
              " ('Att279', 'NUMERIC'),\n",
              " ('Att280', 'NUMERIC'),\n",
              " ('Att281', 'NUMERIC'),\n",
              " ('Att282', 'NUMERIC'),\n",
              " ('Att283', 'NUMERIC'),\n",
              " ('Att284', 'NUMERIC'),\n",
              " ('Att285', 'NUMERIC'),\n",
              " ('Att286', 'NUMERIC'),\n",
              " ('Att287', 'NUMERIC'),\n",
              " ('Att288', 'NUMERIC'),\n",
              " ('Att289', 'NUMERIC'),\n",
              " ('Att290', 'NUMERIC'),\n",
              " ('Att291', 'NUMERIC'),\n",
              " ('Att292', 'NUMERIC'),\n",
              " ('Att293', 'NUMERIC'),\n",
              " ('Att294', 'NUMERIC')]"
            ]
          },
          "metadata": {},
          "execution_count": 16
        }
      ]
    },
    {
      "cell_type": "markdown",
      "source": [
        "# Task 3"
      ],
      "metadata": {
        "id": "PpR0dDF2GFt-"
      }
    },
    {
      "cell_type": "code",
      "source": [
        "def conevrt_to_frame(skl_dataset):\n",
        "  \"\"\"\n",
        "  Making DataFrame from skmultilearn dataset\n",
        "  \"\"\"\n",
        "  # Creating columns X with their names\n",
        "  df = pd.DataFrame.sparse.from_spmatrix(skl_dataset[0],\n",
        "                                         columns=[x[0] for x in skl_dataset[2]])\n",
        "  # Adding columns Y\n",
        "  df = df.join(pd.DataFrame.sparse.from_spmatrix(skl_dataset[1],\n",
        "                                                 columns=[x[0] for x in skl_dataset[3]]))\n",
        "  return df"
      ],
      "metadata": {
        "id": "yZ_p1gMFlIp4"
      },
      "execution_count": 41,
      "outputs": []
    },
    {
      "cell_type": "code",
      "source": [
        "import numpy as np\n",
        "import pandas as pd\n",
        "\n",
        "from scipy.stats import chi2_contingency\n",
        "\n",
        "def characterization_measures(dataset):\n",
        "    n, f = dataset.shape # number of instances and number of attributes\n",
        "    l = dataset.columns.size # number of labels\n",
        "    \n",
        "    # cardinality\n",
        "    char = dataset.sum().mean()\n",
        "    \n",
        "    # density\n",
        "    den = np.count_nonzero(dataset) / (n * l)\n",
        "    \n",
        "    # diversity\n",
        "    div = len(dataset.groupby(list(dataset.columns)).sum().index) / 2**l\n",
        "    \n",
        "    # average Imbalance Ratio per label\n",
        "    avgIR = dataset.mean() / char\n",
        "    \n",
        "    # ratio of unconditionally dependent label pairs by chi-square test\n",
        "    rDep = 0\n",
        "    for i in range(l):\n",
        "        for j in range(i + 1, l):\n",
        "            crosstab = pd.crosstab(dataset[dataset.columns[i]], dataset[dataset.columns[j]])\n",
        "            chi2, p, dof, expected = chi2_contingency(crosstab)\n",
        "            if p < 0.01:\n",
        "                rDep += 1\n",
        "    rDep /= (l * (l - 1) / 2)\n",
        "    \n",
        "    return n, f, l, char, den, div, avgIR, rDep"
      ],
      "metadata": {
        "id": "jop86HPOGHdD"
      },
      "execution_count": 37,
      "outputs": []
    },
    {
      "cell_type": "code",
      "source": [
        "# load dataset\n",
        "dataset = conevrt_to_frame(load_dataset('emotions', 'train'))\n",
        "\n",
        "n, f, l, char, den, div, avgIR, rDep = characterization_measures(dataset)\n",
        "\n",
        "print(\"Number of instances:\", n)\n",
        "print(\"Number of attributes:\", f)\n",
        "print(\"Number of labels:\", l)\n",
        "print(\"Cardinality:\", char)\n",
        "print(\"Density:\", den)\n",
        "print(\"Diversity:\", div)\n",
        "print(\"Average Imbalance Ratio per label:\", avgIR)\n",
        "print(\"Ratio of unconditionally dependent label pairs by chi-square test:\", rDep)"
      ],
      "metadata": {
        "colab": {
          "base_uri": "https://localhost:8080/"
        },
        "id": "d5rXJ7R8Gx8C",
        "outputId": "e13beb15-41c6-4fd1-c1c5-bc5a5e1c9c46"
      },
      "execution_count": 42,
      "outputs": [
        {
          "output_type": "stream",
          "name": "stdout",
          "text": [
            "emotions:train - exists, not redownloading\n",
            "Number of instances: 391\n",
            "Number of attributes: 78\n",
            "Number of labels: 78\n",
            "Cardinality: 1003.3209432051282\n",
            "Density: 0.9432749688504164\n",
            "Diversity: 1.2937104780329353e-21\n",
            "Average Imbalance Ratio per label: Mean_Acc1298_Mean_Mem40_Centroid    0.000070\n",
            "Mean_Acc1298_Mean_Mem40_Rolloff     0.000206\n",
            "Mean_Acc1298_Mean_Mem40_Flux        0.000086\n",
            "Mean_Acc1298_Mean_Mem40_MFCC_0     -0.072783\n",
            "Mean_Acc1298_Mean_Mem40_MFCC_1      0.004805\n",
            "                                      ...   \n",
            "happy-pleased                       0.000273\n",
            "relaxing-calm                       0.000428\n",
            "quiet-still                         0.000227\n",
            "sad-lonely                          0.000242\n",
            "angry-aggresive                     0.000334\n",
            "Length: 78, dtype: float64\n",
            "Ratio of unconditionally dependent label pairs by chi-square test: 0.007992007992007992\n"
          ]
        }
      ]
    },
    {
      "cell_type": "markdown",
      "source": [
        "# Task 4"
      ],
      "metadata": {
        "id": "mI_yujuAHas2"
      }
    },
    {
      "cell_type": "markdown",
      "source": [
        "## First dataset (Iris)"
      ],
      "metadata": {
        "id": "d6t0vuwb4dDC"
      }
    },
    {
      "cell_type": "code",
      "source": [
        "import numpy as np\n",
        "import pandas as pd\n",
        "from sklearn.datasets import load_iris\n",
        "\n",
        "# save load_iris() sklearn dataset to iris\n",
        "# if you'd like to check dataset type use: type(load_iris())\n",
        "# if you'd like to view list of attributes use: dir(load_iris())\n",
        "iris = load_iris()\n",
        "\n",
        "# np.c_ is the numpy concatenate function\n",
        "# which is used to concat iris['data'] and iris['target'] arrays \n",
        "# for pandas column argument: concat iris['feature_names'] list\n",
        "# and string list (in this case one string); you can make this anything you'd like..  \n",
        "# the original dataset would probably call this ['Species']\n",
        "df = pd.DataFrame(data= np.c_[iris['data'], iris['target']],\n",
        "                  columns= iris['feature_names'] + ['target'])"
      ],
      "metadata": {
        "id": "R4pLm9gm2lqf"
      },
      "execution_count": 55,
      "outputs": []
    },
    {
      "cell_type": "code",
      "source": [
        "df"
      ],
      "metadata": {
        "colab": {
          "base_uri": "https://localhost:8080/",
          "height": 424
        },
        "id": "pQyybFWt4EgL",
        "outputId": "76b0fb9d-c712-4210-f08b-1855a9bd75f2"
      },
      "execution_count": 56,
      "outputs": [
        {
          "output_type": "execute_result",
          "data": {
            "text/plain": [
              "     sepal length (cm)  sepal width (cm)  petal length (cm)  petal width (cm)  \\\n",
              "0                  5.1               3.5                1.4               0.2   \n",
              "1                  4.9               3.0                1.4               0.2   \n",
              "2                  4.7               3.2                1.3               0.2   \n",
              "3                  4.6               3.1                1.5               0.2   \n",
              "4                  5.0               3.6                1.4               0.2   \n",
              "..                 ...               ...                ...               ...   \n",
              "145                6.7               3.0                5.2               2.3   \n",
              "146                6.3               2.5                5.0               1.9   \n",
              "147                6.5               3.0                5.2               2.0   \n",
              "148                6.2               3.4                5.4               2.3   \n",
              "149                5.9               3.0                5.1               1.8   \n",
              "\n",
              "     target  \n",
              "0       0.0  \n",
              "1       0.0  \n",
              "2       0.0  \n",
              "3       0.0  \n",
              "4       0.0  \n",
              "..      ...  \n",
              "145     2.0  \n",
              "146     2.0  \n",
              "147     2.0  \n",
              "148     2.0  \n",
              "149     2.0  \n",
              "\n",
              "[150 rows x 5 columns]"
            ],
            "text/html": [
              "\n",
              "  <div id=\"df-f6f31823-863b-4147-bbad-cfb800b13c1a\">\n",
              "    <div class=\"colab-df-container\">\n",
              "      <div>\n",
              "<style scoped>\n",
              "    .dataframe tbody tr th:only-of-type {\n",
              "        vertical-align: middle;\n",
              "    }\n",
              "\n",
              "    .dataframe tbody tr th {\n",
              "        vertical-align: top;\n",
              "    }\n",
              "\n",
              "    .dataframe thead th {\n",
              "        text-align: right;\n",
              "    }\n",
              "</style>\n",
              "<table border=\"1\" class=\"dataframe\">\n",
              "  <thead>\n",
              "    <tr style=\"text-align: right;\">\n",
              "      <th></th>\n",
              "      <th>sepal length (cm)</th>\n",
              "      <th>sepal width (cm)</th>\n",
              "      <th>petal length (cm)</th>\n",
              "      <th>petal width (cm)</th>\n",
              "      <th>target</th>\n",
              "    </tr>\n",
              "  </thead>\n",
              "  <tbody>\n",
              "    <tr>\n",
              "      <th>0</th>\n",
              "      <td>5.1</td>\n",
              "      <td>3.5</td>\n",
              "      <td>1.4</td>\n",
              "      <td>0.2</td>\n",
              "      <td>0.0</td>\n",
              "    </tr>\n",
              "    <tr>\n",
              "      <th>1</th>\n",
              "      <td>4.9</td>\n",
              "      <td>3.0</td>\n",
              "      <td>1.4</td>\n",
              "      <td>0.2</td>\n",
              "      <td>0.0</td>\n",
              "    </tr>\n",
              "    <tr>\n",
              "      <th>2</th>\n",
              "      <td>4.7</td>\n",
              "      <td>3.2</td>\n",
              "      <td>1.3</td>\n",
              "      <td>0.2</td>\n",
              "      <td>0.0</td>\n",
              "    </tr>\n",
              "    <tr>\n",
              "      <th>3</th>\n",
              "      <td>4.6</td>\n",
              "      <td>3.1</td>\n",
              "      <td>1.5</td>\n",
              "      <td>0.2</td>\n",
              "      <td>0.0</td>\n",
              "    </tr>\n",
              "    <tr>\n",
              "      <th>4</th>\n",
              "      <td>5.0</td>\n",
              "      <td>3.6</td>\n",
              "      <td>1.4</td>\n",
              "      <td>0.2</td>\n",
              "      <td>0.0</td>\n",
              "    </tr>\n",
              "    <tr>\n",
              "      <th>...</th>\n",
              "      <td>...</td>\n",
              "      <td>...</td>\n",
              "      <td>...</td>\n",
              "      <td>...</td>\n",
              "      <td>...</td>\n",
              "    </tr>\n",
              "    <tr>\n",
              "      <th>145</th>\n",
              "      <td>6.7</td>\n",
              "      <td>3.0</td>\n",
              "      <td>5.2</td>\n",
              "      <td>2.3</td>\n",
              "      <td>2.0</td>\n",
              "    </tr>\n",
              "    <tr>\n",
              "      <th>146</th>\n",
              "      <td>6.3</td>\n",
              "      <td>2.5</td>\n",
              "      <td>5.0</td>\n",
              "      <td>1.9</td>\n",
              "      <td>2.0</td>\n",
              "    </tr>\n",
              "    <tr>\n",
              "      <th>147</th>\n",
              "      <td>6.5</td>\n",
              "      <td>3.0</td>\n",
              "      <td>5.2</td>\n",
              "      <td>2.0</td>\n",
              "      <td>2.0</td>\n",
              "    </tr>\n",
              "    <tr>\n",
              "      <th>148</th>\n",
              "      <td>6.2</td>\n",
              "      <td>3.4</td>\n",
              "      <td>5.4</td>\n",
              "      <td>2.3</td>\n",
              "      <td>2.0</td>\n",
              "    </tr>\n",
              "    <tr>\n",
              "      <th>149</th>\n",
              "      <td>5.9</td>\n",
              "      <td>3.0</td>\n",
              "      <td>5.1</td>\n",
              "      <td>1.8</td>\n",
              "      <td>2.0</td>\n",
              "    </tr>\n",
              "  </tbody>\n",
              "</table>\n",
              "<p>150 rows × 5 columns</p>\n",
              "</div>\n",
              "      <button class=\"colab-df-convert\" onclick=\"convertToInteractive('df-f6f31823-863b-4147-bbad-cfb800b13c1a')\"\n",
              "              title=\"Convert this dataframe to an interactive table.\"\n",
              "              style=\"display:none;\">\n",
              "        \n",
              "  <svg xmlns=\"http://www.w3.org/2000/svg\" height=\"24px\"viewBox=\"0 0 24 24\"\n",
              "       width=\"24px\">\n",
              "    <path d=\"M0 0h24v24H0V0z\" fill=\"none\"/>\n",
              "    <path d=\"M18.56 5.44l.94 2.06.94-2.06 2.06-.94-2.06-.94-.94-2.06-.94 2.06-2.06.94zm-11 1L8.5 8.5l.94-2.06 2.06-.94-2.06-.94L8.5 2.5l-.94 2.06-2.06.94zm10 10l.94 2.06.94-2.06 2.06-.94-2.06-.94-.94-2.06-.94 2.06-2.06.94z\"/><path d=\"M17.41 7.96l-1.37-1.37c-.4-.4-.92-.59-1.43-.59-.52 0-1.04.2-1.43.59L10.3 9.45l-7.72 7.72c-.78.78-.78 2.05 0 2.83L4 21.41c.39.39.9.59 1.41.59.51 0 1.02-.2 1.41-.59l7.78-7.78 2.81-2.81c.8-.78.8-2.07 0-2.86zM5.41 20L4 18.59l7.72-7.72 1.47 1.35L5.41 20z\"/>\n",
              "  </svg>\n",
              "      </button>\n",
              "      \n",
              "  <style>\n",
              "    .colab-df-container {\n",
              "      display:flex;\n",
              "      flex-wrap:wrap;\n",
              "      gap: 12px;\n",
              "    }\n",
              "\n",
              "    .colab-df-convert {\n",
              "      background-color: #E8F0FE;\n",
              "      border: none;\n",
              "      border-radius: 50%;\n",
              "      cursor: pointer;\n",
              "      display: none;\n",
              "      fill: #1967D2;\n",
              "      height: 32px;\n",
              "      padding: 0 0 0 0;\n",
              "      width: 32px;\n",
              "    }\n",
              "\n",
              "    .colab-df-convert:hover {\n",
              "      background-color: #E2EBFA;\n",
              "      box-shadow: 0px 1px 2px rgba(60, 64, 67, 0.3), 0px 1px 3px 1px rgba(60, 64, 67, 0.15);\n",
              "      fill: #174EA6;\n",
              "    }\n",
              "\n",
              "    [theme=dark] .colab-df-convert {\n",
              "      background-color: #3B4455;\n",
              "      fill: #D2E3FC;\n",
              "    }\n",
              "\n",
              "    [theme=dark] .colab-df-convert:hover {\n",
              "      background-color: #434B5C;\n",
              "      box-shadow: 0px 1px 3px 1px rgba(0, 0, 0, 0.15);\n",
              "      filter: drop-shadow(0px 1px 2px rgba(0, 0, 0, 0.3));\n",
              "      fill: #FFFFFF;\n",
              "    }\n",
              "  </style>\n",
              "\n",
              "      <script>\n",
              "        const buttonEl =\n",
              "          document.querySelector('#df-f6f31823-863b-4147-bbad-cfb800b13c1a button.colab-df-convert');\n",
              "        buttonEl.style.display =\n",
              "          google.colab.kernel.accessAllowed ? 'block' : 'none';\n",
              "\n",
              "        async function convertToInteractive(key) {\n",
              "          const element = document.querySelector('#df-f6f31823-863b-4147-bbad-cfb800b13c1a');\n",
              "          const dataTable =\n",
              "            await google.colab.kernel.invokeFunction('convertToInteractive',\n",
              "                                                     [key], {});\n",
              "          if (!dataTable) return;\n",
              "\n",
              "          const docLinkHtml = 'Like what you see? Visit the ' +\n",
              "            '<a target=\"_blank\" href=https://colab.research.google.com/notebooks/data_table.ipynb>data table notebook</a>'\n",
              "            + ' to learn more about interactive tables.';\n",
              "          element.innerHTML = '';\n",
              "          dataTable['output_type'] = 'display_data';\n",
              "          await google.colab.output.renderOutput(dataTable, element);\n",
              "          const docLink = document.createElement('div');\n",
              "          docLink.innerHTML = docLinkHtml;\n",
              "          element.appendChild(docLink);\n",
              "        }\n",
              "      </script>\n",
              "    </div>\n",
              "  </div>\n",
              "  "
            ]
          },
          "metadata": {},
          "execution_count": 56
        }
      ]
    },
    {
      "cell_type": "code",
      "source": [
        "n, f, l, char, den, div, avgIR, rDep = characterization_measures(df)\n",
        "\n",
        "print(\"Number of instances:\", n)\n",
        "print(\"Number of attributes:\", f)\n",
        "print(\"Number of labels:\", l)\n",
        "print(\"Cardinality:\", char)\n",
        "print(\"Density:\", den)\n",
        "print(\"Diversity:\", div)\n",
        "print(\"Average Imbalance Ratio per label:\", avgIR)\n",
        "print(\"Ratio of unconditionally dependent label pairs by chi-square test:\", rDep)"
      ],
      "metadata": {
        "colab": {
          "base_uri": "https://localhost:8080/"
        },
        "id": "jlBkhkpW3fAO",
        "outputId": "b05e099c-6698-4583-a70e-1a68dba25cd8"
      },
      "execution_count": 57,
      "outputs": [
        {
          "output_type": "stream",
          "name": "stdout",
          "text": [
            "Number of instances: 150\n",
            "Number of attributes: 5\n",
            "Number of labels: 5\n",
            "Cardinality: 445.7400000000001\n",
            "Density: 0.9333333333333333\n",
            "Diversity: 4.65625\n",
            "Average Imbalance Ratio per label: sepal length (cm)    0.013109\n",
            "sepal width (cm)     0.006859\n",
            "petal length (cm)    0.008431\n",
            "petal width (cm)     0.002691\n",
            "target               0.002243\n",
            "dtype: float64\n",
            "Ratio of unconditionally dependent label pairs by chi-square test: 0.7\n"
          ]
        }
      ]
    },
    {
      "cell_type": "markdown",
      "source": [
        "## Second dataset (Breast cancer)"
      ],
      "metadata": {
        "id": "USDtuAUG4f_l"
      }
    },
    {
      "cell_type": "code",
      "source": [
        "from sklearn import datasets\n",
        "\n",
        "data = datasets.load_breast_cancer()"
      ],
      "metadata": {
        "id": "b7Bb59xE43_b"
      },
      "execution_count": 61,
      "outputs": []
    },
    {
      "cell_type": "code",
      "source": [
        "type(data)"
      ],
      "metadata": {
        "colab": {
          "base_uri": "https://localhost:8080/"
        },
        "id": "Yufdri8_5UhT",
        "outputId": "ff779f70-0afb-4502-d048-f573877587eb"
      },
      "execution_count": 63,
      "outputs": [
        {
          "output_type": "execute_result",
          "data": {
            "text/plain": [
              "sklearn.utils.Bunch"
            ]
          },
          "metadata": {},
          "execution_count": 63
        }
      ]
    },
    {
      "cell_type": "markdown",
      "source": [
        "Standard type for sklearn dataset"
      ],
      "metadata": {
        "id": "Tz4Z-wQv5WC3"
      }
    },
    {
      "cell_type": "code",
      "source": [
        "import pandas as pd\n",
        "\n",
        "df = pd.DataFrame(data.data, columns=data.feature_names)"
      ],
      "metadata": {
        "id": "dsu9HGqJ5AVq"
      },
      "execution_count": 62,
      "outputs": []
    },
    {
      "cell_type": "code",
      "source": [
        "n, f, l, char, den, div, avgIR, rDep = characterization_measures(df)\n",
        "\n",
        "print(\"Number of instances:\", n)\n",
        "print(\"Number of attributes:\", f)\n",
        "print(\"Number of labels:\", l)\n",
        "print(\"Cardinality:\", char)\n",
        "print(\"Density:\", den)\n",
        "print(\"Diversity:\", div)\n",
        "print(\"Average Imbalance Ratio per label:\", avgIR)\n",
        "print(\"Ratio of unconditionally dependent label pairs by chi-square test:\", rDep)"
      ],
      "metadata": {
        "colab": {
          "base_uri": "https://localhost:8080/"
        },
        "id": "scoV89mR5Zty",
        "outputId": "05755a8d-4a71-4f25-fa3f-3cfd28d1ec64"
      },
      "execution_count": 64,
      "outputs": [
        {
          "output_type": "stream",
          "name": "stdout",
          "text": [
            "Number of instances: 569\n",
            "Number of attributes: 30\n",
            "Number of labels: 30\n",
            "Cardinality: 35215.815321186674\n",
            "Density: 0.9954305799648506\n",
            "Diversity: 5.299225449562073e-07\n",
            "Average Imbalance Ratio per label: mean radius                4.011633e-04\n",
            "mean texture               5.477553e-04\n",
            "mean perimeter             2.611583e-03\n",
            "mean area                  1.859645e-02\n",
            "mean smoothness            2.736279e-06\n",
            "mean compactness           2.962901e-06\n",
            "mean concavity             2.521575e-06\n",
            "mean concave points        1.389124e-06\n",
            "mean symmetry              5.144332e-06\n",
            "mean fractal dimension     1.783222e-06\n",
            "radius error               1.150540e-05\n",
            "texture error              3.455417e-05\n",
            "perimeter error            8.138557e-05\n",
            "area error                 1.145425e-03\n",
            "smoothness error           1.999380e-07\n",
            "compactness error          7.234857e-07\n",
            "concavity error            9.056646e-07\n",
            "concave points error       3.349670e-07\n",
            "symmetry error             5.833259e-07\n",
            "fractal dimension error    1.077614e-07\n",
            "worst radius               4.619853e-04\n",
            "worst texture              7.291390e-04\n",
            "worst perimeter            3.045825e-03\n",
            "worst area                 2.500533e-02\n",
            "worst smoothness           3.758783e-06\n",
            "worst compactness          7.220195e-06\n",
            "worst concavity            7.729155e-06\n",
            "worst concave points       3.254396e-06\n",
            "worst symmetry             8.237082e-06\n",
            "worst fractal dimension    2.383753e-06\n",
            "dtype: float64\n",
            "Ratio of unconditionally dependent label pairs by chi-square test: 0.06896551724137931\n"
          ]
        }
      ]
    },
    {
      "cell_type": "markdown",
      "source": [
        "# Task 5"
      ],
      "metadata": {
        "id": "wXvERRBIIll_"
      }
    },
    {
      "cell_type": "markdown",
      "source": [
        "Scikit-multilearn offers a variety of multi-label machine learning methods that can be divided into two categories: transformation and adaptation.\n",
        "\n",
        "In the transformation category, the multi-label problem is transformed into several single-label problems that can be solved with traditional machine learning algorithms. Some of the methods in this category include:\n",
        "\n",
        "* Binary Relevance\n",
        "* Classifier Chains\n",
        "* Label Powerset\n",
        "\n",
        "\n",
        "In the adaptation category, the algorithms are adapted to handle the multi-label problem directly. Some of the methods in this category include:\n",
        "\n",
        "* Label Space Partitioning and Clustering\n",
        "* Label Space Classification\n",
        "* Label-Embedding Multi-Label Classification\n",
        "* Random k-Labelsets"
      ],
      "metadata": {
        "id": "EMnMSYe-H9zO"
      }
    },
    {
      "cell_type": "markdown",
      "source": [
        "# Task 6"
      ],
      "metadata": {
        "id": "CGln_gFuIany"
      }
    },
    {
      "cell_type": "markdown",
      "source": [
        "Cross-validation is a technique for evaluating the performance of a machine learning model by dividing the data into several folds and training the model on different combinations of these folds.\n",
        "\n",
        "`KFold` is a class from the `scikit-learn` library that implements the k-fold cross-validation technique, which involves dividing the data into k equally-sized folds and training the model k times, using k-1 folds for training and the remaining fold for testing."
      ],
      "metadata": {
        "id": "Lml_Jfv5I-Dm"
      }
    },
    {
      "cell_type": "markdown",
      "source": [
        "`cross_validate` is another function from the scikit-learn library that implements k-fold cross-validation. It can be used to evaluate multiple metrics at once."
      ],
      "metadata": {
        "id": "CYWAoHIKI_7I"
      }
    },
    {
      "cell_type": "markdown",
      "source": [
        "This example explain how do the cross_val_score for `iris` dataset"
      ],
      "metadata": {
        "id": "EtErOIM4ButT"
      }
    },
    {
      "cell_type": "code",
      "source": [
        "iris = load_iris()"
      ],
      "metadata": {
        "id": "s2aewGIJBV6e"
      },
      "execution_count": 168,
      "outputs": []
    },
    {
      "cell_type": "code",
      "source": [
        "X, y = iris['data'], iris['target']"
      ],
      "metadata": {
        "id": "BwU4ou_RBWbn"
      },
      "execution_count": 169,
      "outputs": []
    },
    {
      "cell_type": "code",
      "source": [
        "import numpy as np\n",
        "\n",
        "from sklearn.model_selection import KFold, cross_val_score, cross_validate\n",
        "from sklearn.neighbors import KNeighborsClassifier\n",
        "\n",
        "# initialize the KNeighborsClassifier\n",
        "knn = KNeighborsClassifier(n_neighbors=5)\n",
        "\n",
        "# 10-fold cross validation with KFold\n",
        "kfold = KFold(n_splits=10)\n",
        "\n",
        "# compute cross-validation score using accuracy as a metric\n",
        "cv_score = cross_val_score(knn, X, y, cv=kfold, scoring='accuracy')\n",
        "\n",
        "# print the average accuracy across all 10 folds\n",
        "print(\"Cross validation score:\", round(np.mean(cv_score), 3))"
      ],
      "metadata": {
        "colab": {
          "base_uri": "https://localhost:8080/"
        },
        "id": "7399VuFuIbt_",
        "outputId": "750bbea5-6381-4dbd-a07b-2485de787fd9"
      },
      "execution_count": 171,
      "outputs": [
        {
          "output_type": "stream",
          "name": "stdout",
          "text": [
            "Cross validation score: 0.933\n"
          ]
        }
      ]
    },
    {
      "cell_type": "markdown",
      "source": [
        "# Task 7"
      ],
      "metadata": {
        "id": "YxjwezRSJ429"
      }
    },
    {
      "cell_type": "markdown",
      "source": [
        "Brief description:\n",
        "\n",
        "* Accuracy: measures the proportion of correct predictions among all predictions. It's a simple ratio of correctly classified instances over the total number of instances.\n",
        "\n",
        "* Hamming loss: measures the average number of incorrect labels per instance. It's the fraction of the wrong labels to the total number of labels.\n",
        "\n",
        "* Precision: measures the fraction of true positive predictions among all positive predictions made. It's the ratio of correctly predicted positive instances to the total number of positive predictions.\n",
        "\n",
        "* Recall: measures the fraction of true positive predictions among all actual positive instances. It's the ratio of correctly predicted positive instances to the total number of actual positive instances.\n",
        "\n",
        "* F1_score: is the harmonic mean of precision and recall. It provides a balance between precision and recall and is useful when you have an uneven class distribution.\n",
        "\n",
        "* classification_report() is a function in scikit-learn library that provides a report of the main classification metrics for a classification model. The report summarizes the results of the classification task and provides measures such as accuracy, precision, recall and F1_score for each class in the model."
      ],
      "metadata": {
        "id": "I71Abjz9J54O"
      }
    },
    {
      "cell_type": "markdown",
      "source": [
        "# Task 8"
      ],
      "metadata": {
        "id": "uMdhLadHKlx2"
      }
    },
    {
      "cell_type": "markdown",
      "source": [
        "Use the cross_val_score function to evaluate each classifier using 5-fold cross-validation. For each classifier, we calculate the average accuracy score using np.mean(scores) and display it on the screen along with the name of the classifier. The script will display the result of the accuracy metrics for each classifier."
      ],
      "metadata": {
        "id": "5L6BonLaKm8R"
      }
    },
    {
      "cell_type": "markdown",
      "source": [
        "<H1> cl-cv.py </H1>"
      ],
      "metadata": {
        "id": "WeTTB-85K1GA"
      }
    },
    {
      "cell_type": "code",
      "source": [
        "import numpy as np\n",
        "import pandas as pd\n",
        "from sklearn import datasets\n",
        "from sklearn.model_selection import cross_val_predict, KFold\n",
        "from sklearn.metrics import accuracy_score, hamming_loss, precision_score, recall_score, f1_score\n",
        "from sklearn.ensemble import RandomForestClassifier\n",
        "from sklearn.svm import SVC\n",
        "from sklearn.linear_model import LogisticRegression\n",
        "\n",
        "names_ = ['iris', 'digits', 'wine', 'cancer', 'diabetes']\n",
        "# Load 5 datasets\n",
        "datasets_ = [datasets.load_iris(), datasets.load_digits(), datasets.load_wine(),\n",
        "            datasets.load_breast_cancer(), datasets.load_diabetes()]\n",
        "\n",
        "# Create a dictionary to store the evaluation results\n",
        "results = {}\n",
        "\n",
        "# Define 3 classifiers\n",
        "classifiers = [RandomForestClassifier(), SVC(), LogisticRegression()]\n",
        "\n",
        "# Define a 5-fold cross-validation object\n",
        "kf = KFold(n_splits=5, shuffle=True)\n",
        "\n",
        "result = pd.DataFrame()\n",
        "# Iterate through the classifiers and datasets\n",
        "for ds, title in zip(datasets_, names_):\n",
        "  print(title)\n",
        "  for clf in classifiers:   \n",
        "        \n",
        "        name = str(clf.__class__.__name__)\n",
        "        X = ds.data\n",
        "        y = ds.target\n",
        "        \n",
        "        # Use cross_val_predict to generate predictions\n",
        "        y_pred = cross_val_predict(clf, X, y, cv=kf)\n",
        "        \n",
        "        # Calculate the evaluation metrics\n",
        "        accuracy = accuracy_score(y, y_pred)\n",
        "        hamming = hamming_loss(y, y_pred)\n",
        "        precision = precision_score(y, y_pred, average='micro')\n",
        "        recall = recall_score(y, y_pred, average='micro')\n",
        "        f1 = f1_score(y, y_pred, average='micro')\n",
        "        \n",
        "        # Store the results in a dictionary\n",
        "        results[name] = {\"Accuracy\": accuracy, \"Hamming Loss\": hamming,\n",
        "                         \"Precision\": precision, \"Recall\": recall, \"F1 Score\": f1}\n",
        "        \n",
        "  # Convert the results to a Pandas dataframe and display it\n",
        "  df = pd.DataFrame(results).T\n",
        "  print(df)\n",
        "  result = result.append(df.reset_index())\n",
        "  print('\\n')"
      ],
      "metadata": {
        "colab": {
          "base_uri": "https://localhost:8080/"
        },
        "id": "A4rCYRSJKpmQ",
        "outputId": "325d572a-f165-46cf-f8fd-86f74913d635"
      },
      "execution_count": 183,
      "outputs": [
        {
          "output_type": "stream",
          "name": "stdout",
          "text": [
            "iris\n",
            "                        Accuracy  Hamming Loss  Precision    Recall  F1 Score\n",
            "RandomForestClassifier  0.953333      0.046667   0.953333  0.953333  0.953333\n",
            "SVC                     0.966667      0.033333   0.966667  0.966667  0.966667\n",
            "LogisticRegression      0.953333      0.046667   0.953333  0.953333  0.953333\n",
            "\n",
            "\n",
            "digits\n",
            "                        Accuracy  Hamming Loss  Precision    Recall  F1 Score\n",
            "RandomForestClassifier  0.975515      0.024485   0.975515  0.975515  0.975515\n",
            "SVC                     0.987201      0.012799   0.987201  0.987201  0.987201\n",
            "LogisticRegression      0.965498      0.034502   0.965498  0.965498  0.965498\n",
            "\n",
            "\n",
            "wine\n",
            "                        Accuracy  Hamming Loss  Precision    Recall  F1 Score\n",
            "RandomForestClassifier  0.983146      0.016854   0.983146  0.983146  0.983146\n",
            "SVC                     0.662921      0.337079   0.662921  0.662921  0.662921\n",
            "LogisticRegression      0.949438      0.050562   0.949438  0.949438  0.949438\n",
            "\n",
            "\n",
            "cancer\n",
            "                        Accuracy  Hamming Loss  Precision    Recall  F1 Score\n",
            "RandomForestClassifier  0.952548      0.047452   0.952548  0.952548  0.952548\n",
            "SVC                     0.917399      0.082601   0.917399  0.917399  0.917399\n",
            "LogisticRegression      0.945518      0.054482   0.945518  0.945518  0.945518\n",
            "\n",
            "\n",
            "diabetes\n",
            "                        Accuracy  Hamming Loss  Precision    Recall  F1 Score\n",
            "RandomForestClassifier  0.011312      0.988688   0.011312  0.011312  0.011312\n",
            "SVC                     0.009050      0.990950   0.009050  0.009050  0.009050\n",
            "LogisticRegression      0.000000      1.000000   0.000000  0.000000  0.000000\n",
            "\n",
            "\n"
          ]
        }
      ]
    },
    {
      "cell_type": "markdown",
      "source": [
        "# Task 9"
      ],
      "metadata": {
        "id": "5SMMtkUMLPM9"
      }
    },
    {
      "cell_type": "markdown",
      "source": [
        "## Questions"
      ],
      "metadata": {
        "id": "BUorazWlLRYe"
      }
    },
    {
      "cell_type": "markdown",
      "source": [
        "<H3> Which method(s) seems to perform better globally? Among other aspects, it\n",
        "analyzes the effect that the choice of the base classifier has on the \n",
        "performance of the transformation methods.  </H3>"
      ],
      "metadata": {
        "id": "dcL1ZfhaLQDP"
      }
    },
    {
      "cell_type": "markdown",
      "source": [
        "The performance of a method depends on various factors, such as the characteristics of the dataset being used, the performance metric being used, and the specific implementation of the method. There is no universally \"best\" method, and the best method for a particular task will depend on the specific requirements and constraints of the task. In order to determine which method performs better for a specific task, it is necessary to compare the performance of multiple methods using appropriate evaluation metrics on a representative sample of the data. The choice of base classifier can also affect the performance of the transformation methods, as the performance of the overall method will depend on the performance of both the base classifier and the transformation method."
      ],
      "metadata": {
        "id": "KyCEWy7jLcRq"
      }
    },
    {
      "cell_type": "markdown",
      "source": [
        "<H3> What is the execution time of each method? Are there notable differences? </H3>"
      ],
      "metadata": {
        "id": "NLF6l8HbLWTh"
      }
    },
    {
      "cell_type": "markdown",
      "source": [
        "Times:\n",
        "\n",
        "Classifier: Logistic Regression\n",
        "Time evaluation: 0.129\n",
        "\n",
        "Classifier: k-NN\n",
        "Time evaluation: 0.015\n",
        "\n",
        "Classifier: Decision Tree\n",
        "Time evaluation: 0.009"
      ],
      "metadata": {
        "id": "HdX2hmwa6jl9"
      }
    },
    {
      "cell_type": "markdown",
      "source": [
        "There are no noticeable differences here, because the relative time is relatively short, and the difference itself may be in the operation of the processor and its workload"
      ],
      "metadata": {
        "id": "nl9B9D5bNchW"
      }
    },
    {
      "cell_type": "markdown",
      "source": [
        "<H3> Do you observe notable differences in terms of the values of each metric?  </H3>"
      ],
      "metadata": {
        "id": "dr1WwgfULjJT"
      }
    },
    {
      "cell_type": "markdown",
      "source": [
        "RandomForestClassifier and LogisticRegression show the results of the study better by than SVC by all metrics"
      ],
      "metadata": {
        "id": "pAC4uEabMk7-"
      }
    },
    {
      "cell_type": "markdown",
      "source": [
        "![image.png](data:image/png;base64,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)"
      ],
      "metadata": {
        "id": "dABhI0k7Q0Su"
      }
    },
    {
      "cell_type": "markdown",
      "source": [
        "<H3> Analyze if you observe any relationship between the results obtained for the\n",
        "evaluation metrics and the characteristics of the ML set </H3>"
      ],
      "metadata": {
        "id": "_T0OmasDLjP7"
      }
    },
    {
      "cell_type": "code",
      "source": [
        "iris = load_iris()"
      ],
      "metadata": {
        "id": "jyhiK60CCZKv"
      },
      "execution_count": 123,
      "outputs": []
    },
    {
      "cell_type": "code",
      "source": [
        "targets = iris['target']"
      ],
      "metadata": {
        "id": "hlUzexHpCa4b"
      },
      "execution_count": 127,
      "outputs": []
    },
    {
      "cell_type": "code",
      "source": [
        "targets.shape"
      ],
      "metadata": {
        "colab": {
          "base_uri": "https://localhost:8080/"
        },
        "id": "VROWg1DRCfbz",
        "outputId": "9f95b7df-2906-4358-b23f-73a5d239db6d"
      },
      "execution_count": 128,
      "outputs": [
        {
          "output_type": "execute_result",
          "data": {
            "text/plain": [
              "(150,)"
            ]
          },
          "metadata": {},
          "execution_count": 128
        }
      ]
    },
    {
      "cell_type": "code",
      "source": [
        "targets = pd.DataFrame(targets)"
      ],
      "metadata": {
        "id": "DkqZ3EpaClvL"
      },
      "execution_count": 129,
      "outputs": []
    },
    {
      "cell_type": "code",
      "source": [
        "targets.value_counts()"
      ],
      "metadata": {
        "colab": {
          "base_uri": "https://localhost:8080/"
        },
        "id": "t_1eUG_1CgsW",
        "outputId": "c55b1d56-d779-4886-8744-bc1db8e21a1c"
      },
      "execution_count": 134,
      "outputs": [
        {
          "output_type": "execute_result",
          "data": {
            "text/plain": [
              "0    50\n",
              "1    50\n",
              "2    50\n",
              "dtype: int64"
            ]
          },
          "metadata": {},
          "execution_count": 134
        }
      ]
    },
    {
      "cell_type": "markdown",
      "source": [
        "Most likely, this is due to the fact that the sample is very small, because the classes in it are balanced"
      ],
      "metadata": {
        "id": "VdCn9y42CzL4"
      }
    },
    {
      "cell_type": "markdown",
      "source": [
        "<H3> Make a script to graphically display (using matplotlib) the behavior of the \n",
        "methods. </H3>"
      ],
      "metadata": {
        "id": "CHn4vzyYLjUl"
      }
    },
    {
      "cell_type": "code",
      "source": [
        "result"
      ],
      "metadata": {
        "colab": {
          "base_uri": "https://localhost:8080/",
          "height": 520
        },
        "id": "MnIjZ5_INIA9",
        "outputId": "bf1324a2-4f88-4945-f5a8-e94b2f411c15"
      },
      "execution_count": 185,
      "outputs": [
        {
          "output_type": "execute_result",
          "data": {
            "text/plain": [
              "                    index  Accuracy  Hamming Loss  Precision    Recall  \\\n",
              "0  RandomForestClassifier  0.953333      0.046667   0.953333  0.953333   \n",
              "1                     SVC  0.966667      0.033333   0.966667  0.966667   \n",
              "2      LogisticRegression  0.953333      0.046667   0.953333  0.953333   \n",
              "0  RandomForestClassifier  0.975515      0.024485   0.975515  0.975515   \n",
              "1                     SVC  0.987201      0.012799   0.987201  0.987201   \n",
              "2      LogisticRegression  0.965498      0.034502   0.965498  0.965498   \n",
              "0  RandomForestClassifier  0.983146      0.016854   0.983146  0.983146   \n",
              "1                     SVC  0.662921      0.337079   0.662921  0.662921   \n",
              "2      LogisticRegression  0.949438      0.050562   0.949438  0.949438   \n",
              "0  RandomForestClassifier  0.952548      0.047452   0.952548  0.952548   \n",
              "1                     SVC  0.917399      0.082601   0.917399  0.917399   \n",
              "2      LogisticRegression  0.945518      0.054482   0.945518  0.945518   \n",
              "0  RandomForestClassifier  0.011312      0.988688   0.011312  0.011312   \n",
              "1                     SVC  0.009050      0.990950   0.009050  0.009050   \n",
              "2      LogisticRegression  0.000000      1.000000   0.000000  0.000000   \n",
              "\n",
              "   F1 Score  \n",
              "0  0.953333  \n",
              "1  0.966667  \n",
              "2  0.953333  \n",
              "0  0.975515  \n",
              "1  0.987201  \n",
              "2  0.965498  \n",
              "0  0.983146  \n",
              "1  0.662921  \n",
              "2  0.949438  \n",
              "0  0.952548  \n",
              "1  0.917399  \n",
              "2  0.945518  \n",
              "0  0.011312  \n",
              "1  0.009050  \n",
              "2  0.000000  "
            ],
            "text/html": [
              "\n",
              "  <div id=\"df-3cba9bf8-c299-48a4-b4dc-2d2d304947d1\">\n",
              "    <div class=\"colab-df-container\">\n",
              "      <div>\n",
              "<style scoped>\n",
              "    .dataframe tbody tr th:only-of-type {\n",
              "        vertical-align: middle;\n",
              "    }\n",
              "\n",
              "    .dataframe tbody tr th {\n",
              "        vertical-align: top;\n",
              "    }\n",
              "\n",
              "    .dataframe thead th {\n",
              "        text-align: right;\n",
              "    }\n",
              "</style>\n",
              "<table border=\"1\" class=\"dataframe\">\n",
              "  <thead>\n",
              "    <tr style=\"text-align: right;\">\n",
              "      <th></th>\n",
              "      <th>index</th>\n",
              "      <th>Accuracy</th>\n",
              "      <th>Hamming Loss</th>\n",
              "      <th>Precision</th>\n",
              "      <th>Recall</th>\n",
              "      <th>F1 Score</th>\n",
              "    </tr>\n",
              "  </thead>\n",
              "  <tbody>\n",
              "    <tr>\n",
              "      <th>0</th>\n",
              "      <td>RandomForestClassifier</td>\n",
              "      <td>0.953333</td>\n",
              "      <td>0.046667</td>\n",
              "      <td>0.953333</td>\n",
              "      <td>0.953333</td>\n",
              "      <td>0.953333</td>\n",
              "    </tr>\n",
              "    <tr>\n",
              "      <th>1</th>\n",
              "      <td>SVC</td>\n",
              "      <td>0.966667</td>\n",
              "      <td>0.033333</td>\n",
              "      <td>0.966667</td>\n",
              "      <td>0.966667</td>\n",
              "      <td>0.966667</td>\n",
              "    </tr>\n",
              "    <tr>\n",
              "      <th>2</th>\n",
              "      <td>LogisticRegression</td>\n",
              "      <td>0.953333</td>\n",
              "      <td>0.046667</td>\n",
              "      <td>0.953333</td>\n",
              "      <td>0.953333</td>\n",
              "      <td>0.953333</td>\n",
              "    </tr>\n",
              "    <tr>\n",
              "      <th>0</th>\n",
              "      <td>RandomForestClassifier</td>\n",
              "      <td>0.975515</td>\n",
              "      <td>0.024485</td>\n",
              "      <td>0.975515</td>\n",
              "      <td>0.975515</td>\n",
              "      <td>0.975515</td>\n",
              "    </tr>\n",
              "    <tr>\n",
              "      <th>1</th>\n",
              "      <td>SVC</td>\n",
              "      <td>0.987201</td>\n",
              "      <td>0.012799</td>\n",
              "      <td>0.987201</td>\n",
              "      <td>0.987201</td>\n",
              "      <td>0.987201</td>\n",
              "    </tr>\n",
              "    <tr>\n",
              "      <th>2</th>\n",
              "      <td>LogisticRegression</td>\n",
              "      <td>0.965498</td>\n",
              "      <td>0.034502</td>\n",
              "      <td>0.965498</td>\n",
              "      <td>0.965498</td>\n",
              "      <td>0.965498</td>\n",
              "    </tr>\n",
              "    <tr>\n",
              "      <th>0</th>\n",
              "      <td>RandomForestClassifier</td>\n",
              "      <td>0.983146</td>\n",
              "      <td>0.016854</td>\n",
              "      <td>0.983146</td>\n",
              "      <td>0.983146</td>\n",
              "      <td>0.983146</td>\n",
              "    </tr>\n",
              "    <tr>\n",
              "      <th>1</th>\n",
              "      <td>SVC</td>\n",
              "      <td>0.662921</td>\n",
              "      <td>0.337079</td>\n",
              "      <td>0.662921</td>\n",
              "      <td>0.662921</td>\n",
              "      <td>0.662921</td>\n",
              "    </tr>\n",
              "    <tr>\n",
              "      <th>2</th>\n",
              "      <td>LogisticRegression</td>\n",
              "      <td>0.949438</td>\n",
              "      <td>0.050562</td>\n",
              "      <td>0.949438</td>\n",
              "      <td>0.949438</td>\n",
              "      <td>0.949438</td>\n",
              "    </tr>\n",
              "    <tr>\n",
              "      <th>0</th>\n",
              "      <td>RandomForestClassifier</td>\n",
              "      <td>0.952548</td>\n",
              "      <td>0.047452</td>\n",
              "      <td>0.952548</td>\n",
              "      <td>0.952548</td>\n",
              "      <td>0.952548</td>\n",
              "    </tr>\n",
              "    <tr>\n",
              "      <th>1</th>\n",
              "      <td>SVC</td>\n",
              "      <td>0.917399</td>\n",
              "      <td>0.082601</td>\n",
              "      <td>0.917399</td>\n",
              "      <td>0.917399</td>\n",
              "      <td>0.917399</td>\n",
              "    </tr>\n",
              "    <tr>\n",
              "      <th>2</th>\n",
              "      <td>LogisticRegression</td>\n",
              "      <td>0.945518</td>\n",
              "      <td>0.054482</td>\n",
              "      <td>0.945518</td>\n",
              "      <td>0.945518</td>\n",
              "      <td>0.945518</td>\n",
              "    </tr>\n",
              "    <tr>\n",
              "      <th>0</th>\n",
              "      <td>RandomForestClassifier</td>\n",
              "      <td>0.011312</td>\n",
              "      <td>0.988688</td>\n",
              "      <td>0.011312</td>\n",
              "      <td>0.011312</td>\n",
              "      <td>0.011312</td>\n",
              "    </tr>\n",
              "    <tr>\n",
              "      <th>1</th>\n",
              "      <td>SVC</td>\n",
              "      <td>0.009050</td>\n",
              "      <td>0.990950</td>\n",
              "      <td>0.009050</td>\n",
              "      <td>0.009050</td>\n",
              "      <td>0.009050</td>\n",
              "    </tr>\n",
              "    <tr>\n",
              "      <th>2</th>\n",
              "      <td>LogisticRegression</td>\n",
              "      <td>0.000000</td>\n",
              "      <td>1.000000</td>\n",
              "      <td>0.000000</td>\n",
              "      <td>0.000000</td>\n",
              "      <td>0.000000</td>\n",
              "    </tr>\n",
              "  </tbody>\n",
              "</table>\n",
              "</div>\n",
              "      <button class=\"colab-df-convert\" onclick=\"convertToInteractive('df-3cba9bf8-c299-48a4-b4dc-2d2d304947d1')\"\n",
              "              title=\"Convert this dataframe to an interactive table.\"\n",
              "              style=\"display:none;\">\n",
              "        \n",
              "  <svg xmlns=\"http://www.w3.org/2000/svg\" height=\"24px\"viewBox=\"0 0 24 24\"\n",
              "       width=\"24px\">\n",
              "    <path d=\"M0 0h24v24H0V0z\" fill=\"none\"/>\n",
              "    <path d=\"M18.56 5.44l.94 2.06.94-2.06 2.06-.94-2.06-.94-.94-2.06-.94 2.06-2.06.94zm-11 1L8.5 8.5l.94-2.06 2.06-.94-2.06-.94L8.5 2.5l-.94 2.06-2.06.94zm10 10l.94 2.06.94-2.06 2.06-.94-2.06-.94-.94-2.06-.94 2.06-2.06.94z\"/><path d=\"M17.41 7.96l-1.37-1.37c-.4-.4-.92-.59-1.43-.59-.52 0-1.04.2-1.43.59L10.3 9.45l-7.72 7.72c-.78.78-.78 2.05 0 2.83L4 21.41c.39.39.9.59 1.41.59.51 0 1.02-.2 1.41-.59l7.78-7.78 2.81-2.81c.8-.78.8-2.07 0-2.86zM5.41 20L4 18.59l7.72-7.72 1.47 1.35L5.41 20z\"/>\n",
              "  </svg>\n",
              "      </button>\n",
              "      \n",
              "  <style>\n",
              "    .colab-df-container {\n",
              "      display:flex;\n",
              "      flex-wrap:wrap;\n",
              "      gap: 12px;\n",
              "    }\n",
              "\n",
              "    .colab-df-convert {\n",
              "      background-color: #E8F0FE;\n",
              "      border: none;\n",
              "      border-radius: 50%;\n",
              "      cursor: pointer;\n",
              "      display: none;\n",
              "      fill: #1967D2;\n",
              "      height: 32px;\n",
              "      padding: 0 0 0 0;\n",
              "      width: 32px;\n",
              "    }\n",
              "\n",
              "    .colab-df-convert:hover {\n",
              "      background-color: #E2EBFA;\n",
              "      box-shadow: 0px 1px 2px rgba(60, 64, 67, 0.3), 0px 1px 3px 1px rgba(60, 64, 67, 0.15);\n",
              "      fill: #174EA6;\n",
              "    }\n",
              "\n",
              "    [theme=dark] .colab-df-convert {\n",
              "      background-color: #3B4455;\n",
              "      fill: #D2E3FC;\n",
              "    }\n",
              "\n",
              "    [theme=dark] .colab-df-convert:hover {\n",
              "      background-color: #434B5C;\n",
              "      box-shadow: 0px 1px 3px 1px rgba(0, 0, 0, 0.15);\n",
              "      filter: drop-shadow(0px 1px 2px rgba(0, 0, 0, 0.3));\n",
              "      fill: #FFFFFF;\n",
              "    }\n",
              "  </style>\n",
              "\n",
              "      <script>\n",
              "        const buttonEl =\n",
              "          document.querySelector('#df-3cba9bf8-c299-48a4-b4dc-2d2d304947d1 button.colab-df-convert');\n",
              "        buttonEl.style.display =\n",
              "          google.colab.kernel.accessAllowed ? 'block' : 'none';\n",
              "\n",
              "        async function convertToInteractive(key) {\n",
              "          const element = document.querySelector('#df-3cba9bf8-c299-48a4-b4dc-2d2d304947d1');\n",
              "          const dataTable =\n",
              "            await google.colab.kernel.invokeFunction('convertToInteractive',\n",
              "                                                     [key], {});\n",
              "          if (!dataTable) return;\n",
              "\n",
              "          const docLinkHtml = 'Like what you see? Visit the ' +\n",
              "            '<a target=\"_blank\" href=https://colab.research.google.com/notebooks/data_table.ipynb>data table notebook</a>'\n",
              "            + ' to learn more about interactive tables.';\n",
              "          element.innerHTML = '';\n",
              "          dataTable['output_type'] = 'display_data';\n",
              "          await google.colab.output.renderOutput(dataTable, element);\n",
              "          const docLink = document.createElement('div');\n",
              "          docLink.innerHTML = docLinkHtml;\n",
              "          element.appendChild(docLink);\n",
              "        }\n",
              "      </script>\n",
              "    </div>\n",
              "  </div>\n",
              "  "
            ]
          },
          "metadata": {},
          "execution_count": 185
        }
      ]
    },
    {
      "cell_type": "code",
      "source": [
        "temp = result.groupby('index')['Accuracy'].mean().to_frame()\n",
        "\n",
        "temp.plot.bar(figsize = (5,5),\n",
        "              color='lightgreen',\n",
        "              title='Comparison of accuracy',\n",
        "              xlabel='',\n",
        "              ylabel='Mean',\n",
        "              legend=None);"
      ],
      "metadata": {
        "colab": {
          "base_uri": "https://localhost:8080/",
          "height": 443
        },
        "id": "w8By9K-LNEqK",
        "outputId": "310eeb77-d108-498f-f837-e96f8d75fc88"
      },
      "execution_count": 215,
      "outputs": [
        {
          "output_type": "display_data",
          "data": {
            "text/plain": [
              "<Figure size 360x360 with 1 Axes>"
            ],
            "image/png": "[encoded data removed]"
          },
          "metadata": {
            "needs_background": "light"
          }
        }
      ]
    },
    {
      "cell_type": "code",
      "source": [
        "temp = result.groupby('index')['Hamming Loss'].mean().to_frame()\n",
        "\n",
        "temp.plot.bar(figsize = (5,5),\n",
        "              color='lightgreen',\n",
        "              title='Comparison of Hamming Loss',\n",
        "              xlabel='',\n",
        "              ylabel='Mean',\n",
        "              legend=None);"
      ],
      "metadata": {
        "colab": {
          "base_uri": "https://localhost:8080/",
          "height": 443
        },
        "id": "CHKZ3_MePK-1",
        "outputId": "fa32f387-edcb-4053-b3f7-59fe9dce1fda"
      },
      "execution_count": 216,
      "outputs": [
        {
          "output_type": "display_data",
          "data": {
            "text/plain": [
              "<Figure size 360x360 with 1 Axes>"
            ],
            "image/png": "[encoded data removed]"
          },
          "metadata": {
            "needs_background": "light"
          }
        }
      ]
    },
    {
      "cell_type": "code",
      "source": [
        "temp = result.groupby('index')['Precision'].mean().to_frame()\n",
        "\n",
        "temp.plot.bar(figsize = (5,5),\n",
        "              color='lightgreen',\n",
        "              title='Comparison of Precision',\n",
        "              xlabel='',\n",
        "              ylabel='Mean',\n",
        "              legend=None);"
      ],
      "metadata": {
        "colab": {
          "base_uri": "https://localhost:8080/",
          "height": 443
        },
        "id": "W0mAbvofPLWI",
        "outputId": "17699016-8d04-4c40-822b-db8239c7565e"
      },
      "execution_count": 217,
      "outputs": [
        {
          "output_type": "display_data",
          "data": {
            "text/plain": [
              "<Figure size 360x360 with 1 Axes>"
            ],
            "image/png": "[encoded data removed]"
          },
          "metadata": {
            "needs_background": "light"
          }
        }
      ]
    },
    {
      "cell_type": "code",
      "source": [
        "temp = result.groupby('index')['Recall'].mean().to_frame()\n",
        "\n",
        "temp.plot.bar(figsize = (5,5),\n",
        "              color='lightgreen',\n",
        "              title='Comparison of Recall',\n",
        "              xlabel='',\n",
        "              ylabel='Mean',\n",
        "              legend=None);"
      ],
      "metadata": {
        "colab": {
          "base_uri": "https://localhost:8080/",
          "height": 443
        },
        "id": "L3j5n5x3PLzH",
        "outputId": "d47d83d5-4329-4635-b830-aa4bd92b6f8d"
      },
      "execution_count": 218,
      "outputs": [
        {
          "output_type": "display_data",
          "data": {
            "text/plain": [
              "<Figure size 360x360 with 1 Axes>"
            ],
            "image/png": "[encoded data removed]"
          },
          "metadata": {
            "needs_background": "light"
          }
        }
      ]
    },
    {
      "cell_type": "code",
      "source": [
        "temp = result.groupby('index')['F1 Score'].mean().to_frame()\n",
        "\n",
        "temp.plot.bar(figsize = (5,5),\n",
        "              color='lightgreen',\n",
        "              title='Comparison of F1 Score',\n",
        "              xlabel='',\n",
        "              ylabel='Mean',\n",
        "              legend=None);"
      ],
      "metadata": {
        "colab": {
          "base_uri": "https://localhost:8080/",
          "height": 443
        },
        "id": "spT0smyxPU_X",
        "outputId": "b7ec54fd-d1f1-4b35-c179-4c97e26d187d"
      },
      "execution_count": 219,
      "outputs": [
        {
          "output_type": "display_data",
          "data": {
            "text/plain": [
              "<Figure size 360x360 with 1 Axes>"
            ],
            "image/png": "[encoded data removed]"
          },
          "metadata": {
            "needs_background": "light"
          }
        }
      ]
    }
  ]
}